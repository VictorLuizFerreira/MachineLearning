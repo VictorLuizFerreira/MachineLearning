{
 "cells": [
  {
   "cell_type": "markdown",
   "metadata": {},
   "source": [
    "# Introdução ao tema\n",
    "O algoritmo KNN (K Nearest Neighbor) é um dos algoritmos mais utilizados em Machine Learning e também um dos mais simplistas, analisando seu processo de cálculo. É um dos muitos algoritmos de aprendizagem supervisionada usado no campo de machine learning, ele é um classificador onde o aprendizado é baseado “no quão similar” é um dado (um vetor) do outro. Este algoritmo pode ser aplicado em diversos segmentos de negócio, logo também se aplica em diversos problemas como finanças, saúde, ciência política, reconhecimento de imagem e reconhecimento de vídeos. O que acho mais fantástico neste algoritmo é a possibilidade de utilização do mesmo tanto para classificação quanto para regressão. Na classificação a máquina irá dizer a que grupo determinado registro faz parte, dentro obviamente de um contexto de negócio. Já a regressão irá nos fornecer um número/valor, por exemplo o valor de mercado de uma determinada casa que irá ser colocada a venda. Para ambos os casos o algoritmo irá analisar diversas features (Colunas com dados, as quais geraram informação).\n",
    "\n",
    "## Conteúdo\n",
    "\n",
    "- [Algoritmo K-Nearest Neighbor](#AlgoritmoKNN)\n",
    "- [Como o algoritmo KNN funciona](#ComooalgoritmoKNNfunciona)\n",
    "- [Performance e dimensionalidade](#Performanceedimensionalidade)\n",
    "- [Como decidir o melhor número de vizinhos K](#ComodecidiromelhornumerodevizinhosK)\n",
    "- [Pros e Contra do algoritmo](#ProseContradoalgoritmo)\n",
    "- [Exemplo prático com implementação própria e com sklearn](#Exemplopraticocomimplementacaopropriaecomsklearn)\n",
    "\n",
    "\n",
    "<br/>\n",
    "<a id='AlgoritmoKNN'></a>\n",
    "\n",
    "# KNN (K Nearest Neighbor)\n",
    "O KNN é um [algoritmo não paramétrico](https://pt.wikipedia.org/wiki/Estat%C3%ADstica_n%C3%A3o_param%C3%A9trica), no qual a estrutura do modelo será determinada pelo dataset utilizado. Modelos não paramétricos diferem dos modelos paramétricos por conta do modelo de estrutura não ser especificado a priori mas pode ser determinado pelos dados. O termo \"não paramétrico\" não significa que falta completamente todos os parâmetros, mas que o número e a natureza dos parâmetros são flexíveis e não fixadas antecipadamente.\n",
    "\n",
    "\n",
    "Este algoritmo também é conhecido como de aprendizado lento ou melhor dizendo, é um algoritmo preguiçoso, o termo certo é “lazy”. Os algoritmos do tipo lazy, não necessitam de dados de treinamento para se gerar o modelo, o que diminui em partes o processo inicial, mas em contrapartida irá gerar uma necessidade de analise posterior mais apurada. No caso de algoritmos que não necessitam de treinamento, todos os dados obtidos no dataset serão utilizados na fase de teste, resultando em um treinamento muito rápido e em um teste e validação lentos, momento o qual necessitamos estar bem atentos aos resultados gerados.\n",
    "\n",
    "<a id='ComooalgoritmoKNNfunciona'></a>\n",
    "# Como funciona o algoritmo KNN (K Nearest Neighbor)\n",
    "\n",
    "Neste algoritmo possuímos uma variável chamada de K, a qual é parte do nome do modelo e também o principal parâmetro a ser selecionado. Este parâmetro direcionará a quantidade de vizinhos (neighborn em inglês). Em casos de modelos binários, aonde possuímos apenas duas classes, em geral aplicasse valores ímpares a K, mas lembre que cada caso é um caso, “No free lunch”. Imagine que temos um valor P1 o qual queremos predizer, entre um grupo de duas classes aonde o valor atribuído a K foi 1 (K=1), primeiro iremos identificar o ponto mais próximo a ele e depois qual a label que o identifica (classe A por exemplo)\n",
    "\n",
    "<br>\n",
    "\n",
    "<img src=\"img\\Knn_k1_z96jba.png\" alt=\"Markdown Monster icon\" />\n",
    "\n",
    "<br>\n",
    "\n",
    "Após identificar o ponto mais próximo e identificar a label deste ponto (Ex.: Classe A), iremos predizer a que classe o ponto P1 faz parte. Para identificar de fato a que grupo o ponto P1 faz parte, iremos realizar uma votação aonde a maioria irá dizer a que classe este ponto P1 realmente faz parte.\n",
    "\n",
    "<br>\n",
    "\n",
    "# Como assim?\n",
    "\n",
    "<br>\n",
    "\n",
    "<img src=\"img\\images.png\" />\n",
    "\n",
    "Simples, iremos utilizar medida de distância para identificar a distância existente entre o ponto P1 e os demais pontos do meu dataset, como K=1 o algoritmo irá verificar ponto a ponto, caso coloque o valor K=3 ele irá olhar a distância de P1 em relação a 3 pontos. Desta forma termos e distância existente entre P1 e todos os pontos do meu dataset, assim conseguiremos saber a quais pontos P1 é mais próximo, desta forma teremos qual classe ele é mais similar. Assim a “votação” será concluída, e saberemos como classificar P1.\n",
    "\n",
    "<br>\n",
    "\n",
    "## Para encontrarmos a distância entre os pontos poderemos utilizar as seguintes medidas:\n",
    "\n",
    "* Distância Euclidiana\n",
    "* Distância de Hamming\n",
    "* Distância Manhattan\n",
    "* Distância de Markowski\n",
    "* Distância Jaccard\n",
    "\n",
    "# Os passos realizados pelo algoritmo são:\n",
    "* Calcular a distância\n",
    "* Encontrar os pontos/vizinhos mais próximos\n",
    "* Votar a label para o ponto a ser previsto\n",
    "\n",
    "<img src=\"img\\KNN_final1_ibdm8a.png\" />\n",
    "\n",
    "\n",
    "## Detalhes\n",
    "As etapas de um algoritmo KNN são:\n",
    "\n",
    "* 1 — Recebe um dado não classificado;\n",
    "* 2 — Mede a distância (Euclidiana, Manhattan, Minkowski, Jaccard ou Ponderada) do novo; dado com todos os outros dados que já estão classificados;\n",
    "* * Distância entre duas instâncias $p_i$ e $p_j$ definida como:\n",
    "* * $d=\\sqrt{\\sum_{k=1}^{n} (p_{ik} - p_{nk})}$\n",
    "* * $p_{ik}$ e $p_{jk}$ para k=1,...,n são os n atributos que descrevem as instâncias $p_i$ e $p_j$, respectivamente"
   ]
  },
  {
   "cell_type": "code",
   "execution_count": 2,
   "metadata": {},
   "outputs": [
    {
     "name": "stdout",
     "output_type": "stream",
     "text": [
      "202.20781389451793\n",
      "[    4    16    64   361   441   400 39601     1]\n"
     ]
    }
   ],
   "source": [
    "#Exemplo: Se tivermos os pontos de uma linha1=[1,1,1,1,1,1,1,1] e de uma linha2=[2,2,2,2,2,2,2,2]import numpy as np\n",
    "import numpy as np\n",
    "import math\n",
    "linha1=np.array([1,1,1,1,1,1,1,1])\n",
    "linha2=np.array([3,5,9,20,22,21,200,2])\n",
    "somatorio=np.sum(  (linha1-linha2)**2    )\n",
    "d=math.sqrt(somatorio)\n",
    "print(d)\n",
    "\n",
    "print((linha1-linha2)**2)"
   ]
  },
  {
   "cell_type": "markdown",
   "metadata": {},
   "source": [
    "* 3 — Obtém as X(no caso essa variável X é o parâmetro K) menores distâncias;\n",
    "* 4 — Verifica a classe de cada da um dos dados que tiveram a menor distância e conta a quantidade de cada classe que aparece;\n",
    "* 5 — Toma como resultado a classe que mais apareceu dentre os dados que tiveram as menores distâncias;\n",
    "* 6 — Classifica o novo dado com a classe tomada como resultado da classificação\n",
    "\n",
    "<img src=\"img\\knn_distancia.png\" />\n",
    "\n",
    "# Diferentes tipos de aprendizado\n",
    "Irei abordar dois tipos de modelos, o EAGER e os LAZY, já que comentamos o assunto anteriormente. Os algoritmos EAGER são aqueles que necessitam olhar o dado anteriormente a predição, logo precisamos realizar o FIT do modelo com dados de treinamento para que ele aprenda o padrão e possa replicar seu aprendizado na fase de teste, a qual utilizamos com o objetivo de validar o aprendizado e mensurar os erros/perdas em dados até então desconhecidos do algoritmo. Já os algoritmos LAZY, assim como o KNN, irão trabalhar diretamente nos dados aguardando até o último momento para predizer o resultado. Os algoritmos LAZY armazenam os dados de treinamento e aguardam até que seja necessária a classificação do registro. O momento no qual apresentamos o dado de teste para o modelo LAZY é quando ele analisará a similaridade entre a nova tupla de valores com os valores contidos em treinamento e irá nos retornar a qual classe ou qual valor que esta tupla terá. Estes algoritmos trabalham menos na fase de treinamento e muito mais na fase de teste, pois simplesmente armazenam as instâncias de dados do treinamento para posteriormente, na fase de teste, realizar o trabalho pesado.\n",
    "\n",
    "<a id='Performanceedimensionalidade'></a>\n",
    "# Performance e Dimensionalidade\n",
    "O algoritmo KNN em geral obtém melhores resultados em uma baixa volumetria de dados. Caso tenha um aumento significativo de features no seu modelo, será necessária uma realimentação do seu modelo também em registros, ou seja, quanto mais colunas tivermos mais dados serão necessários, mas muito cuidado overfiting ocorrem quando estamos em uma matriz esparsa. Lembra que comentamos que a base deste modelo são medidas de distância? Então, em algoritmos que se baseiam em distância para classificar ou predizer valores será necessário um cuidado muito grande quando a escalabilidade de seus dados, ou seja, se tiver uma coluna com valores variando entre 1000 e 1000000 e outra coluna no mesmo dataset que tenha seu espaço entre 0 e 10, as distâncias destes serão grandes, gerando um resultado impreciso/incorreto. Para este tipo de algoritmo, indicamos a realização de um pré processo chamando redução de dimensionalidade (Dimensionality reduction), o mais conhecido é o PCA (Principal Component Analysis), que na forma mais simples irá alocar a representatividade dos valores das colunas entre um mesmo range, por exemplo entre 0 e 1. Lembrando que os números são infinitos dentro de suas escalas, permitindo assim esta representação dentro de um mesmo plano, desta forma obteremos resultados mais precisos e mais seguros, quando utilizarmos algoritmos que se baseiam em medidas de distância.\n",
    "\n",
    "<a id='ComodecidiromelhornumerodevizinhosK'></a>\n",
    "\n",
    "# Como escolher o valor correto de K no KNN\n",
    "Agora que temos uma ideia do funcionamento do algoritmo, surge a dúvida das dúvidas quando se trata do KNN, qual o melhor valor a se atribuir para K? Existe algum número mágico que servirá para todos os casos? Qual impacto gerado na classificação dependendo do valor escolhido para K?\n",
    "\n",
    "O número de vizinhos (neighborn = K) no algoritmo KNN é um hiperparametro o qual devemos escolher ao construir um modelo com base no KNN, então considere o K como a variável de controle para a predição/classificação. Como de costume, o “NO FREE LUNCH” neste caso também é q máxima, não existe um número mágico, pois cada dataset é de um jeito, costumo dizer que dados são vivos e mutáveis e cada caso ele terá um comportamento, ou seja, um padrão. Valores atribuídos a K que sejam muito baixos serão influenciados por ruídos nos dados gerando assim influência no resultado final obtido, em contrapartida valores muito altos serão computacionalmente custosos.\n",
    "\n",
    "Alguns estudos com valores K baixos, mostraram que o processo de fit fica mais flexível os quais terão resultados menos enviesados (bias) mas com uma alta variância, já os resultados com valores altos atribuídos a K gerando vários vizinhos, resultarão em uma fronteira de decisão (decision boundary) mais sensível, resultando uma baixa variância dos resultados mas um risco altíssimo de enviesamento.\n",
    "\n",
    "Em geral, cientistas testam valores ímpares para K, pois identificou-se melhores resultados com valores não pares, porém de novo NO FREE LUNCH. A melhor maneira de se obter o melhor K é testando diversos valores, podemos tirar a raiz quadrada dos valor total de pontos existentes no dataset ou aplicar técnicas de tunning para identificação do valor que ira performar melhor, por exemplo o K-FOLD CROSS VALIDATION, iremos posteriormente tratar métodos de tunning de modelos de machine learning.\n",
    "\n",
    "<img src=\"img\\KNN_final_a1mrv9.png\" />\n",
    "\n",
    "<br>\n",
    "<a id='ProseContradoalgoritmo'></a>\n",
    "\n",
    "# Prós\n",
    "\n",
    "* A favor do KNN temos:\n",
    "\n",
    "* *  É um dos mais simples algorítimos a se implementar.\n",
    "\n",
    "* *  Boa precisão na maioria dos casos aplicados.\n",
    "\n",
    "* * A facilidade para se efetuar tunning dos poucos parametros existentes (Valor de K e Medida de Distância)\n",
    "\n",
    "* * Tempo para se efetuar treinamento dos dados também é diferenciado, sendo um dos mais rápidos para esta atividade.\n",
    "\n",
    "* * O KNN pode ser utilizado em dados não lineares bem como para problemas de regressão.\n",
    "\n",
    "# Contras\n",
    "* Contra o KNN temos:\n",
    "\n",
    "* Uma demora excessiva na fase de teste e o alto consumo de memória para realizar esta atividade de teste, uma vez que o mesmo armazena todo dataset em memoria.\n",
    "\n",
    "* KNN não é indicado a dados de grandes dimensões, imagina ter que calcular a distância de todos os pontos de dados entre si, quanto mais dados e mais dimensões desses registros, maior será o tempo para processar os cálculos.\n",
    "\n",
    "* Uma vez que o mesmo trabalha com medidas de distância necessita sempre que nos atentemos a escala dos valores utilizados, para que não gere resultados equivocados.\n",
    "\n",
    "# Conclusão\n",
    "\n",
    "O KNN é um modelo simples e muito eficaz, neste caso em específico o algoritimo performa de forma excepcional, lembrando que este é um caso de teste, com dataset montado para apresentação deste modelo. No mundo real não se consegue este tipo de acurácia, lembrando também que necessitariamos verificar as possibilidades de overfiting e analisar quais campos foram mais importantes para se definir quais principais características de um cogumelo venenoso, traduzindo assim o conhecimento adiquirido com base no modelo criado.\n",
    "\n"
   ]
  },
  {
   "cell_type": "markdown",
   "metadata": {},
   "source": [
    "## Exemplo \n",
    "\n",
    "Testa implementação com sklearn e com solução própria\n",
    "\n",
    "<a id='Exemplopraticocomimplementacaopropriaecomsklearn'></a>"
   ]
  },
  {
   "cell_type": "code",
   "execution_count": 6,
   "metadata": {},
   "outputs": [
    {
     "name": "stdout",
     "output_type": "stream",
     "text": [
      "Aplicando o classificador criado manualmente\n",
      "Pontuação: 0.9571428571428572\n",
      "Tempo do criado manualmente: 0.029 s\n",
      "[[92  2]\n",
      " [ 4 42]]\n",
      "              precision    recall  f1-score   support\n",
      "\n",
      "           2       0.96      0.98      0.97        94\n",
      "           4       0.95      0.91      0.93        46\n",
      "\n",
      "    accuracy                           0.96       140\n",
      "   macro avg       0.96      0.95      0.95       140\n",
      "weighted avg       0.96      0.96      0.96       140\n",
      "\n",
      "\n",
      "\n",
      "\n",
      "\n",
      "\n",
      "\n",
      "Aplicando o classificador do sklearn\n",
      "Pontuação: 0.9571428571428572\n",
      "Tempo do classificador do sklearn: 0.058 s\n",
      "[[92  2]\n",
      " [ 4 42]]\n",
      "              precision    recall  f1-score   support\n",
      "\n",
      "           2       0.96      0.98      0.97        94\n",
      "           4       0.95      0.91      0.93        46\n",
      "\n",
      "    accuracy                           0.96       140\n",
      "   macro avg       0.96      0.95      0.95       140\n",
      "weighted avg       0.96      0.96      0.96       140\n",
      "\n"
     ]
    },
    {
     "name": "stderr",
     "output_type": "stream",
     "text": [
      "C:\\Users\\andre\\AppData\\Local\\Temp\\ipykernel_22488\\2325280409.py:56: FutureWarning: In a future version of pandas all arguments of DataFrame.drop except for the argument 'labels' will be keyword-only.\n",
      "  X = np.array(data.drop(['class'], 1))\n"
     ]
    }
   ],
   "source": [
    "import pandas as pd\n",
    "import numpy as np\n",
    "from sklearn import model_selection, neighbors\n",
    "from matplotlib import style\n",
    "from time import time\n",
    "from scipy import stats\n",
    "from sklearn.metrics import classification_report,confusion_matrix\n",
    " \n",
    "class knn_clf(object):\n",
    "    def __init__(self, k = 3):\n",
    "        self.k = k\n",
    "\n",
    "    # guardar dados\n",
    "    def fit(self, X_train, y_train):\n",
    "        X = np.insert(X_train, 0, y_train, 1)\n",
    "        self.lookup_table = X\n",
    "    \n",
    "    def predict(self, X_test):\n",
    "        answers = np.zeros(X_test[:, 0].shape)\n",
    "        # para cada observação no set de teste\n",
    "        for a_i, row in enumerate(X_test):\n",
    "            # achamos as distâncias para cada observação no set de treino\n",
    "            dist = np.linalg.norm(self.lookup_table[:, 1:] - row, axis=1)\n",
    "\n",
    "            # acoplamos uma coluna de distância na tabela de busca\n",
    "            lookup_temp = np.insert(self.lookup_table, 0, dist, 1)\n",
    "            \n",
    "            # ordena segundo a distância calculada\n",
    "            lookup_temp = lookup_temp[lookup_temp[:, 0].argsort()]\n",
    "            \n",
    "            # acha os votos das k observações mais perto\n",
    "            votes = lookup_temp[:self.k, 1]\n",
    "            \n",
    "            # acha o mais votado e adiciona à resposta\n",
    "            answers[a_i] = stats.mode(votes)[0]\n",
    "    \n",
    "        return answers\n",
    "\n",
    "    def score(self, X_test, y_test):\n",
    "        y_perd = self.predict(X_test)\n",
    "        \n",
    "        return np.sum(y_perd == y_test) / len(y_test)\n",
    "\n",
    "if __name__ == '__main__':\n",
    "    # lê os dados\n",
    "    # Dados podem ser encontrados no link abaixo\n",
    "    # http://archive.ics.uci.edu/ml/datasets/Breast+Cancer+Wisconsin+%28Diagnostic%29\n",
    "    # OBS: As colunas foram nomeadas nos dados usados aqui\n",
    "    var_list = ['clump_thickness', 'uniform_cell_size', 'uniform_cell_shape',\n",
    "                'marginal_adhesion', 'single_epi_cell_size', 'bare_nuclei',\n",
    "                'bland_chromation', ' normal_nucleoli', 'mitoses', 'class']\n",
    "    \n",
    "    data = pd.read_csv('breast-cancer-wisconsin.data.txt', \n",
    "                       na_values = '?', usecols = var_list)\n",
    "    data.fillna(-99999, inplace = True)\n",
    "    X = np.array(data.drop(['class'], 1))\n",
    "    y = np.array(data['class'])\n",
    "    \n",
    "    # separa em treino e teste\n",
    "    X_train, X_test, y_train, y_test = model_selection.train_test_split(X, y,\n",
    "                                                                        test_size=0.2)\n",
    "    tamanhok=3\n",
    "    # treina e testa algoritmo criado\n",
    "    print('Aplicando o classificador criado manualmente')\n",
    "    t0 = time()\n",
    "    clf = knn_clf(k=tamanhok)\n",
    "    clf.fit(X_train, y_train)\n",
    "    print('Pontuação:', clf.score(X_test, y_test))\n",
    "    print(\"Tempo do criado manualmente:\", round(time()-t0, 3), \"s\")\n",
    "    pred = clf.predict(X_test)\n",
    "    print(confusion_matrix(y_test,pred))\n",
    "    print(classification_report(y_test,pred))\n",
    "    \n",
    "    error_rate = []    \n",
    "    \n",
    "    # treina e testa algoritmo do sklearn\n",
    "    print('\\n\\n\\n\\n\\n\\nAplicando o classificador do sklearn')\n",
    "    clf_test = neighbors.KNeighborsClassifier(n_neighbors = tamanhok)\n",
    "    clf_test.fit(X_train, y_train)\n",
    "    print('Pontuação:', clf_test.score(X_test, y_test))\n",
    "    pred = clf_test.predict(X_test)\n",
    "    print(\"Tempo do classificador do sklearn:\", round(time()-t0, 3), \"s\")\n",
    "    \n",
    "    print(confusion_matrix(y_test,pred))\n",
    "    print(classification_report(y_test,pred))\n",
    "    "
   ]
  },
  {
   "cell_type": "code",
   "execution_count": 7,
   "metadata": {},
   "outputs": [
    {
     "data": {
      "text/plain": [
       "Text(0, 0.5, 'Taxa de Erro')"
      ]
     },
     "execution_count": 7,
     "metadata": {},
     "output_type": "execute_result"
    },
    {
     "data": {
      "image/png": "[encoded data removed]",
      "text/plain": [
       "<Figure size 720x432 with 1 Axes>"
      ]
     },
     "metadata": {
      "needs_background": "light"
     },
     "output_type": "display_data"
    }
   ],
   "source": [
    "import matplotlib.pyplot as plt\n",
    "%matplotlib inline\n",
    "\n",
    "#tamanhok definido na célula acima\n",
    "tamanhok=300\n",
    "error_rate = []\n",
    "# Levará algum tempo\n",
    "for i in range(1,tamanhok):\n",
    "    knn = knn_clf(k=i)\n",
    "    knn.fit(X_train,y_train)\n",
    "    pred_i = knn.predict(X_test)\n",
    "    error_rate.append(np.mean(pred_i != y_test))\n",
    "\n",
    "plt.figure(figsize=(10,6))\n",
    "plt.plot(range(1,tamanhok),error_rate,color='blue', linestyle='dashed', marker='o', markerfacecolor='red', markersize=10)\n",
    "plt.title('Taxa de Erro vs. K - algoritmo implementado')\n",
    "plt.xlabel('K')\n",
    "plt.ylabel('Taxa de Erro')"
   ]
  },
  {
   "cell_type": "code",
   "execution_count": 8,
   "metadata": {},
   "outputs": [
    {
     "data": {
      "text/plain": [
       "Text(0, 0.5, 'Taxa de Erro')"
      ]
     },
     "execution_count": 8,
     "metadata": {},
     "output_type": "execute_result"
    },
    {
     "data": {
      "image/png": "[encoded data removed]",
      "text/plain": [
       "<Figure size 720x432 with 1 Axes>"
      ]
     },
     "metadata": {
      "needs_background": "light"
     },
     "output_type": "display_data"
    }
   ],
   "source": [
    "\n",
    "#tamanhok definido na célula acima\n",
    "#tamanhok=300\n",
    "error_rate = []\n",
    "# Levará algum tempo\n",
    "for i in range(1,tamanhok):\n",
    "    knn = neighbors.KNeighborsClassifier(n_neighbors = i)\n",
    "    knn.fit(X_train,y_train)\n",
    "    pred_i = knn.predict(X_test)\n",
    "    error_rate.append(np.mean(pred_i != y_test))\n",
    "plt.figure(figsize=(10,6))\n",
    "plt.plot(range(1,tamanhok),error_rate,color='blue', linestyle='dashed', marker='o', markerfacecolor='red', markersize=10)\n",
    "plt.title('Taxa de Erro vs. K - algoritmo do sklearn')\n",
    "plt.xlabel('K')\n",
    "plt.ylabel('Taxa de Erro')\n"
   ]
  }
 ],
 "metadata": {
  "kernelspec": {
   "display_name": "Python 3 (ipykernel)",
   "language": "python",
   "name": "python3"
  },
  "language_info": {
   "codemirror_mode": {
    "name": "ipython",
    "version": 3
   },
   "file_extension": ".py",
   "mimetype": "text/x-python",
   "name": "python",
   "nbconvert_exporter": "python",
   "pygments_lexer": "ipython3",
   "version": "3.9.7"
  }
 },
 "nbformat": 4,
 "nbformat_minor": 2
}
