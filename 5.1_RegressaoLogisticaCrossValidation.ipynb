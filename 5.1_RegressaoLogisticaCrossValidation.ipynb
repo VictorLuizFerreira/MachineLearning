{
 "cells": [
  {
   "cell_type": "markdown",
   "metadata": {},
   "source": [
    "# Cross Validation\n",
    "\n",
    "A validação cruzada é um tópico importante no `Machine Learning 'para garantir que nosso modelo seja robusto o suficiente. A estratégia de treinamento tradicional está usando três partes do conjunto de dados para treinamento, testando uma validação.\n",
    "\n",
    "* conjunto de treinamento - é usado para treinar o modelo e otimizar os hiperparâmetros do modelo\n",
    "* conjunto de teste - é usado para avaliar se o modelo é generalizado o suficiente para funcionar corretamente com dados nos quais não foi treinado. No entanto, através da pessoa que realiza a otimização, algum conhecimento sobre o conjunto de testes acaba vazando para o modelo.\n",
    "* conjunto de validação - por esse motivo, usamos o conjunto de validação que é usado como verificação final de que o modelo é capaz de generalizar com dados anteriormente desconhecidos.\n",
    "\n",
    "A criação desses conjuntos limita o número de dados usados para o treinamento e que podem diminuir a capacidade de aprendizado do modelo. A validação cruzada permite criar um modelo robusto dividindo os dados de treinamento em subconjuntos `k`. Cada subconjunto usa parte de seus dados para treinamento e parte para teste. O próximo subconjunto usa uma divisão diferente dos dados de treino e teste, como você pode ver na figura abaixo. Isso é mais intenso nos recursos, mas permite que você use os dados do modo para treinamento.\n",
    "\n",
    "![](Cross_Validation.jpg \"Cross validation folds\")\n",
    "\n",
    "Você também pode ter certeza de que seu modelo é capaz de generalizar, caso cada dobra tenha desempenho semelhante. Se uma (ou mais) dobra estiver realmente atingindo a pontuação, enquanto outras apresentam um desempenho ruim, é necessário pensar mais na maneira como você divide os dados. Você verá exemplos disso abaixo.\n",
    "\n",
    "O Scikit Learn é a biblioteca python favorita para executar muitas operações de aprendizado de máquina e traz muitos métodos que ajudam a dividir os dados em conjunto de treinamento, teste e validação. Os mais populares que iremos analisar neste tutorial são:\n",
    "\n",
    "train_test_split - cria uma divisão única no conjunto de treino e teste.\n",
    "* Kfold - cria divisões com dobras k, permitindo validação cruzada\n",
    "* StratifiedKFold - cria divisões com dobras k considerando a distribuição da variável de destino\n",
    "* cross_val_score - pontuação do modelo evaluta através da validação cruzada\n",
    "\n",
    "No entanto, você deve estar ciente de que a validação cruzada não é adequada para todas as ocasiões e deve pensar com sabedoria como você divide os dados.\n",
    "\n",
    "Mais sobre cross validaiton:\n",
    "\n",
    "* https://scikit-learn.org/stable/modules/cross_validation.html\n",
    "* https://en.wikipedia.org/wiki/Cross-validation_(statistics)"
   ]
  },
  {
   "cell_type": "markdown",
   "metadata": {},
   "source": [
    "Vamos dar uma olhada em alguns casos reais. Primeiro, dividiremos o simples **intervalo de 25 números** e, em seguida, examinaremos o popular **conjunto de dados da íris** que usa medições de pétalas e sépalas para prever que tipo de flor de íris é."
   ]
  },
  {
   "cell_type": "code",
   "execution_count": 1,
   "metadata": {},
   "outputs": [],
   "source": [
    "# Importar scikit-learn \n",
    "from sklearn.model_selection import KFold, StratifiedKFold, train_test_split, cross_validate, cross_val_score\n",
    "from sklearn.datasets import load_iris, load_boston\n",
    "from sklearn.linear_model import LogisticRegression\n",
    "from sklearn.metrics import accuracy_score, classification_report\n",
    "\n",
    "# importar bibliotecas gráficas e manipulações de dados\n",
    "import matplotlib.pyplot as plt\n",
    "import seaborn as sns\n",
    "import pandas as pd\n",
    "import numpy as np\n",
    "import random"
   ]
  },
  {
   "cell_type": "code",
   "execution_count": 13,
   "metadata": {},
   "outputs": [],
   "source": [
    "import warnings  \n",
    "warnings.filterwarnings(\"ignore\") "
   ]
  },
  {
   "cell_type": "code",
   "execution_count": 2,
   "metadata": {},
   "outputs": [],
   "source": [
    "# cria um range 1 to 25\n",
    "rn = range(1,26)"
   ]
  },
  {
   "cell_type": "markdown",
   "metadata": {},
   "source": [
    "Vamos começar com o método Kfold, que divide o conjunto de trens em dobras k, para que cada amostra seja usada uma vez para testes e k-1 vezes para treinamento."
   ]
  },
  {
   "cell_type": "code",
   "execution_count": 3,
   "metadata": {},
   "outputs": [],
   "source": [
    "# para demonstrar como os dados são divididos, criaremos 3 e 5 dobras.\n",
    "# A função KFold deve ser aplicada aos dados e retorna uma localização (índice) das amostras de treino e teste.\n",
    "\n",
    "kf5 = KFold(n_splits=5, shuffle=False)\n",
    "kf3 = KFold(n_splits=3, shuffle=False)"
   ]
  },
  {
   "cell_type": "code",
   "execution_count": 9,
   "metadata": {},
   "outputs": [
    {
     "name": "stdout",
     "output_type": "stream",
     "text": [
      "[ 9 10 11 12 13 14 15 16 17 18 19 20 21 22 23 24] [0 1 2 3 4 5 6 7 8]\n",
      "[ 0  1  2  3  4  5  6  7  8 17 18 19 20 21 22 23 24] [ 9 10 11 12 13 14 15 16]\n",
      "[ 0  1  2  3  4  5  6  7  8  9 10 11 12 13 14 15 16] [17 18 19 20 21 22 23 24]\n"
     ]
    }
   ],
   "source": [
    "# a função K Fold retorna os índices dos dados. O intervalo varia de 1 a 25, portanto o índice é de 0 a 24\n",
    "for train_index, test_index in kf3.split(rn):\n",
    "    print(train_index, test_index)"
   ]
  },
  {
   "cell_type": "code",
   "execution_count": 10,
   "metadata": {},
   "outputs": [
    {
     "name": "stdout",
     "output_type": "stream",
     "text": [
      "[10 11 12 13 14 15 16 17 18 19 20 21 22 23 24 25] [1 2 3 4 5 6 7 8 9]\n",
      "[ 1  2  3  4  5  6  7  8  9 18 19 20 21 22 23 24 25] [10 11 12 13 14 15 16 17]\n",
      "[ 1  2  3  4  5  6  7  8  9 10 11 12 13 14 15 16 17] [18 19 20 21 22 23 24 25]\n"
     ]
    }
   ],
   "source": [
    "# para obter os valores de nossos dados, usamos np.take () para acessar um valor em um índice específico\n",
    "for train_index, test_index in kf3.split(rn):\n",
    "    print(np.take(rn,train_index), np.take(rn,test_index))"
   ]
  },
  {
   "cell_type": "markdown",
   "metadata": {},
   "source": [
    "## Chart the cross validation split"
   ]
  },
  {
   "cell_type": "code",
   "execution_count": 11,
   "metadata": {},
   "outputs": [],
   "source": [
    "# Vamos dividir nosso intervalo de testes em 5 e 3 dobras e exibir as divisões no gráfico.\n",
    "# Para mostrar claramente quais dados pertencem a cada conjunto, mudaremos os valores por -.1 e +.1\n",
    "# a primeira dobra conterá valores 0.9 no treino e 1.1 no conjunto de testes, segundo 1.9 e 2.1, etc.\n",
    "# também daremos a cada conjunto a cor diferente\n",
    "# porque repetiremos este exercício para a versão aleatória, vamos criar uma função\n",
    "\n",
    "def kfoldize(kf, rn, shift=.1):\n",
    "    train = pd.DataFrame()\n",
    "    test = pd.DataFrame()\n",
    "    i = 1\n",
    "    for train_index, test_index in kf.split(rn):\n",
    "        train_df = pd.DataFrame(np.take(rn, train_index), columns=[\"x\"])\n",
    "        train_df[\"val\"] = i - shift\n",
    "        train = train.append(train_df)\n",
    "\n",
    "        test_df = pd.DataFrame(np.take(rn, test_index), columns=[\"x\"])\n",
    "        test_df[\"val\"] = i + shift\n",
    "        test = test.append(test_df)\n",
    "        i += 1\n",
    "    return train, test"
   ]
  },
  {
   "cell_type": "code",
   "execution_count": 14,
   "metadata": {},
   "outputs": [
    {
     "data": {
      "image/png": "[encoded data removed]",
      "text/plain": [
       "<Figure size 1080x360 with 2 Axes>"
      ]
     },
     "metadata": {
      "needs_background": "light"
     },
     "output_type": "display_data"
    }
   ],
   "source": [
    "train5, test5 = kfoldize(kf5,rn)\n",
    "train3, test3 = kfoldize(kf3,rn)\n",
    "\n",
    "fig,ax = plt.subplots(1,2, figsize=(15,5))\n",
    "ax[0].scatter(x=\"x\",y=\"val\",c=\"b\",label=\"treino\",s=15,data=train5)\n",
    "ax[0].scatter(x=\"x\",y=\"val\",c=\"r\",label=\"teste\",s=15,data=test5)\n",
    "ax[1].scatter(x=\"x\",y=\"val\",c=\"b\",label=\"treino\",s=15,data=train3)\n",
    "ax[1].scatter(x=\"x\",y=\"val\",c=\"r\",label=\"teste\",s=15,data=test3)\n",
    "ax[0].set_ylabel(\"Kfold\")\n",
    "ax[0].set_xlabel(\"feature\")\n",
    "ax[1].set_xlabel(\"feature\")\n",
    "ax[0].set_title(\"5 Folds\")\n",
    "ax[1].set_title(\"3 Folds\")\n",
    "plt.suptitle(\"Kfold divisão entre features de treino e testes\")\n",
    "plt.legend(bbox_to_anchor=(1.05, 1))\n",
    "plt.show()"
   ]
  },
  {
   "cell_type": "code",
   "execution_count": 15,
   "metadata": {},
   "outputs": [
    {
     "data": {
      "text/html": [
       "<div>\n",
       "<style scoped>\n",
       "    .dataframe tbody tr th:only-of-type {\n",
       "        vertical-align: middle;\n",
       "    }\n",
       "\n",
       "    .dataframe tbody tr th {\n",
       "        vertical-align: top;\n",
       "    }\n",
       "\n",
       "    .dataframe thead th {\n",
       "        text-align: right;\n",
       "    }\n",
       "</style>\n",
       "<table border=\"1\" class=\"dataframe\">\n",
       "  <thead>\n",
       "    <tr style=\"text-align: right;\">\n",
       "      <th></th>\n",
       "      <th>Train5</th>\n",
       "      <th>Test5</th>\n",
       "      <th>Train3</th>\n",
       "      <th>Test3</th>\n",
       "    </tr>\n",
       "  </thead>\n",
       "  <tbody>\n",
       "    <tr>\n",
       "      <th>Min value:</th>\n",
       "      <td>1</td>\n",
       "      <td>1</td>\n",
       "      <td>1</td>\n",
       "      <td>1</td>\n",
       "    </tr>\n",
       "    <tr>\n",
       "      <th>Max value:</th>\n",
       "      <td>25</td>\n",
       "      <td>25</td>\n",
       "      <td>25</td>\n",
       "      <td>25</td>\n",
       "    </tr>\n",
       "    <tr>\n",
       "      <th>Min occurance:</th>\n",
       "      <td>4</td>\n",
       "      <td>1</td>\n",
       "      <td>2</td>\n",
       "      <td>1</td>\n",
       "    </tr>\n",
       "    <tr>\n",
       "      <th>Max occurance:</th>\n",
       "      <td>4</td>\n",
       "      <td>1</td>\n",
       "      <td>2</td>\n",
       "      <td>1</td>\n",
       "    </tr>\n",
       "    <tr>\n",
       "      <th>Min lenght</th>\n",
       "      <td>20</td>\n",
       "      <td>5</td>\n",
       "      <td>16</td>\n",
       "      <td>8</td>\n",
       "    </tr>\n",
       "    <tr>\n",
       "      <th>Max lenght</th>\n",
       "      <td>20</td>\n",
       "      <td>5</td>\n",
       "      <td>17</td>\n",
       "      <td>9</td>\n",
       "    </tr>\n",
       "  </tbody>\n",
       "</table>\n",
       "</div>"
      ],
      "text/plain": [
       "                 Train5  Test5  Train3  Test3\n",
       "Min value:            1      1       1      1\n",
       "Max value:           25     25      25     25\n",
       "Min occurance:        4      1       2      1\n",
       "Max occurance:        4      1       2      1\n",
       "Min lenght           20      5      16      8\n",
       "Max lenght           20      5      17      9"
      ]
     },
     "execution_count": 15,
     "metadata": {},
     "output_type": "execute_result"
    }
   ],
   "source": [
    "# vamos ter certeza de como os valores são distribuídos entre os conjuntos; Também vamos criar função para que possamos repetir\n",
    "def kfold_stats(df, name):\n",
    "    s =  pd.Series({\"Min value: \": df[\"x\"].min(),\n",
    "              \"Max value: \": df[\"x\"].max(),\n",
    "              \"Min occurance: \": df[\"x\"].value_counts().min(),\n",
    "              \"Max occurance: \": df[\"x\"].value_counts().max(),\n",
    "               \"Min lenght\": df.groupby(\"val\").count().min().values[0],\n",
    "               \"Max lenght\": df.groupby(\"val\").count().max().values[0]})\n",
    "    s.name = name\n",
    "    return s\n",
    "pd.concat([kfold_stats(train5, \"Train5\"), kfold_stats(test5,\"Test5\"),\n",
    "          kfold_stats(train3, \"Train3\"), kfold_stats(test3,\"Test3\")], \n",
    "          axis=1)"
   ]
  },
  {
   "cell_type": "markdown",
   "metadata": {},
   "source": [
    "A tabela acima resume alguns fatos importantes sobre o KFold:\n",
    "\n",
    "* `Min and Max value` - treino e teste cobrem todas as features\n",
    "* `Min and Max occurrence`- cada valor ocorre uma vez no conjunto de testes e k-1 vezes no conjunto de treino\n",
    "* `Min and Max value length` - caso você tenha várias features que não podem ser divididos por n, alguns terão uma divisão diferente entre os conjuntos de teste e de treino.  Por exemplo. no caso de 25 elementos e 3, divida os índices em 16/9, 17/8, 17/8\n"
   ]
  },
  {
   "cell_type": "markdown",
   "metadata": {},
   "source": [
    "\n",
    "## KFold embaralhado\n",
    "No exemplo anterior, você viu a distribuição de treino / teste sem embaralhamento. Essa distribuição pode influenciar o resultado do modelo de aprendizado de máquina, portanto, geralmente é útil dividir os recursos aleatoriamente para provar as habilidades do seu modelo. Uma divisão aleatória dos dados é obtida pelo parâmetro `shuffle`. O parâmetro `random-state` inicia o randomizador da maneira que o uso do mesmo estado aleatório garante a mesma divisão."
   ]
  },
  {
   "cell_type": "code",
   "execution_count": 16,
   "metadata": {},
   "outputs": [],
   "source": [
    "kf42 = KFold(n_splits=5, shuffle=True, random_state=42)\n",
    "kf123 = KFold(n_splits=5, shuffle=True, random_state=123)"
   ]
  },
  {
   "cell_type": "code",
   "execution_count": 17,
   "metadata": {},
   "outputs": [
    {
     "data": {
      "image/png": "[encoded data removed]",
      "text/plain": [
       "<Figure size 1080x360 with 2 Axes>"
      ]
     },
     "metadata": {
      "needs_background": "light"
     },
     "output_type": "display_data"
    }
   ],
   "source": [
    "train42, test42 = kfoldize(kf42,rn)\n",
    "train123, test123 = kfoldize(kf123,rn)\n",
    "train123_2, test123_2 = kfoldize(kf123,rn,shift=.25)\n",
    "\n",
    "fig,ax = plt.subplots(1,2, figsize=(15,5))\n",
    "ax[0].scatter(x=\"x\",y=\"val\",c=\"b\",label=\"treino\",s=15,data=train42) \n",
    "ax[0].scatter(x=\"x\",y=\"val\",c=\"r\",label=\"teste\",s=15,data=test42)\n",
    "ax[1].scatter(x=\"x\",y=\"val\",c=\"b\",label=\"treino\",s=15,data=train123)\n",
    "ax[1].scatter(x=\"x\",y=\"val\",c=\"r\",label=\"teste\",s=15,data=test123)\n",
    "ax[1].scatter(x=\"x\",y=\"val\",c=\"k\",label=\"teste second run\",s=15,data=test123_2)\n",
    "ax[0].set_ylabel(\"Kfold\")\n",
    "ax[0].set_xlabel(\"feature\")\n",
    "ax[0].set_title(\"KFold Embaralhado com random state 42\")\n",
    "ax[1].set_ylabel(\"Kfold\")\n",
    "ax[1].set_xlabel(\"feature\")\n",
    "ax[1].set_title(\"KFold Embaralhado com random state 123\")\n",
    "plt.suptitle(\"KFold com embaralhamento\")\n",
    "plt.legend(bbox_to_anchor=(1.05, 1))\n",
    "plt.show()"
   ]
  },
  {
   "cell_type": "markdown",
   "metadata": {},
   "source": [
    "## Kfold sobre dataset real\n",
    "Vamos usar o Kfold para avaliar um modelo de classificação no popular conjunto de dados Iris. Contém 150 medidas de tamanhos de pétalas e sépalas das três variedades de flores de íris - setosa, versicolor e virginica. Cada um contém 50 medições no conjunto.\n",
    "\n",
    "Conjunto de dados Iris no scikit-learn: https://scikit-learn.org/stable/auto_examples/datasets/plot_iris_dataset.html"
   ]
  },
  {
   "cell_type": "code",
   "execution_count": 18,
   "metadata": {},
   "outputs": [
    {
     "data": {
      "text/html": [
       "<div>\n",
       "<style scoped>\n",
       "    .dataframe tbody tr th:only-of-type {\n",
       "        vertical-align: middle;\n",
       "    }\n",
       "\n",
       "    .dataframe tbody tr th {\n",
       "        vertical-align: top;\n",
       "    }\n",
       "\n",
       "    .dataframe thead th {\n",
       "        text-align: right;\n",
       "    }\n",
       "</style>\n",
       "<table border=\"1\" class=\"dataframe\">\n",
       "  <thead>\n",
       "    <tr style=\"text-align: right;\">\n",
       "      <th></th>\n",
       "      <th>sepal length (cm)</th>\n",
       "      <th>sepal width (cm)</th>\n",
       "      <th>petal length (cm)</th>\n",
       "      <th>petal width (cm)</th>\n",
       "      <th>target</th>\n",
       "      <th>target_name</th>\n",
       "    </tr>\n",
       "  </thead>\n",
       "  <tbody>\n",
       "    <tr>\n",
       "      <th>77</th>\n",
       "      <td>6.7</td>\n",
       "      <td>3.0</td>\n",
       "      <td>5.0</td>\n",
       "      <td>1.7</td>\n",
       "      <td>1</td>\n",
       "      <td>versicolor</td>\n",
       "    </tr>\n",
       "    <tr>\n",
       "      <th>34</th>\n",
       "      <td>4.9</td>\n",
       "      <td>3.1</td>\n",
       "      <td>1.5</td>\n",
       "      <td>0.2</td>\n",
       "      <td>0</td>\n",
       "      <td>setosa</td>\n",
       "    </tr>\n",
       "    <tr>\n",
       "      <th>95</th>\n",
       "      <td>5.7</td>\n",
       "      <td>3.0</td>\n",
       "      <td>4.2</td>\n",
       "      <td>1.2</td>\n",
       "      <td>1</td>\n",
       "      <td>versicolor</td>\n",
       "    </tr>\n",
       "    <tr>\n",
       "      <th>108</th>\n",
       "      <td>6.7</td>\n",
       "      <td>2.5</td>\n",
       "      <td>5.8</td>\n",
       "      <td>1.8</td>\n",
       "      <td>2</td>\n",
       "      <td>virginica</td>\n",
       "    </tr>\n",
       "    <tr>\n",
       "      <th>43</th>\n",
       "      <td>5.0</td>\n",
       "      <td>3.5</td>\n",
       "      <td>1.6</td>\n",
       "      <td>0.6</td>\n",
       "      <td>0</td>\n",
       "      <td>setosa</td>\n",
       "    </tr>\n",
       "  </tbody>\n",
       "</table>\n",
       "</div>"
      ],
      "text/plain": [
       "     sepal length (cm)  sepal width (cm)  petal length (cm)  petal width (cm)  \\\n",
       "77                 6.7               3.0                5.0               1.7   \n",
       "34                 4.9               3.1                1.5               0.2   \n",
       "95                 5.7               3.0                4.2               1.2   \n",
       "108                6.7               2.5                5.8               1.8   \n",
       "43                 5.0               3.5                1.6               0.6   \n",
       "\n",
       "     target target_name  \n",
       "77        1  versicolor  \n",
       "34        0      setosa  \n",
       "95        1  versicolor  \n",
       "108       2   virginica  \n",
       "43        0      setosa  "
      ]
     },
     "execution_count": 18,
     "metadata": {},
     "output_type": "execute_result"
    }
   ],
   "source": [
    "iris = load_iris(return_X_y=False)\n",
    "iris_df = pd.DataFrame(data=iris.data,columns=iris.feature_names)\n",
    "features = iris['feature_names']\n",
    "iris_df['target'] = iris.target\n",
    "iris_df[\"target_name\"] = iris_df['target'].map({i:name for i,name in enumerate(iris.target_names)})\n",
    "iris_df.sample(5)"
   ]
  },
  {
   "cell_type": "code",
   "execution_count": 19,
   "metadata": {},
   "outputs": [
    {
     "data": {
      "text/html": [
       "<div>\n",
       "<style scoped>\n",
       "    .dataframe tbody tr th:only-of-type {\n",
       "        vertical-align: middle;\n",
       "    }\n",
       "\n",
       "    .dataframe tbody tr th {\n",
       "        vertical-align: top;\n",
       "    }\n",
       "\n",
       "    .dataframe thead th {\n",
       "        text-align: right;\n",
       "    }\n",
       "</style>\n",
       "<table border=\"1\" class=\"dataframe\">\n",
       "  <thead>\n",
       "    <tr style=\"text-align: right;\">\n",
       "      <th></th>\n",
       "      <th>target_name</th>\n",
       "      <th>samples</th>\n",
       "    </tr>\n",
       "  </thead>\n",
       "  <tbody>\n",
       "    <tr>\n",
       "      <th>0</th>\n",
       "      <td>setosa</td>\n",
       "      <td>50</td>\n",
       "    </tr>\n",
       "    <tr>\n",
       "      <th>1</th>\n",
       "      <td>versicolor</td>\n",
       "      <td>50</td>\n",
       "    </tr>\n",
       "    <tr>\n",
       "      <th>2</th>\n",
       "      <td>virginica</td>\n",
       "      <td>50</td>\n",
       "    </tr>\n",
       "  </tbody>\n",
       "</table>\n",
       "</div>"
      ],
      "text/plain": [
       "  target_name  samples\n",
       "0      setosa       50\n",
       "1  versicolor       50\n",
       "2   virginica       50"
      ]
     },
     "execution_count": 19,
     "metadata": {},
     "output_type": "execute_result"
    }
   ],
   "source": [
    "# Vamos ver quantas amostras de cada tipo de íris temos em nosso conjunto\n",
    "pd.DataFrame(iris_df.groupby(\"target_name\").size().reset_index()).rename(columns={0:\"samples\"})"
   ]
  },
  {
   "cell_type": "markdown",
   "metadata": {},
   "source": [
    "### Single fold\n",
    "Vamos executar a regressão logística usando o train_test_split tradicional, que dividirá os dados em conjunto de treino e teste, para que cada valor alvo apareça no conjunto de treinamento e teste número semelhante de vezes."
   ]
  },
  {
   "cell_type": "code",
   "execution_count": 20,
   "metadata": {},
   "outputs": [],
   "source": [
    "# inicializa modelo\n",
    "\n",
    "'''\n",
    "solver{‘newton-cg’, ‘lbfgs’, ‘liblinear’, ‘sag’, ‘saga’}, default=’lbfgs’\n",
    "Algoritmo usado na otimização do problema.\n",
    "\n",
    "No aprendizado de máquina, a classificação multiclasse ou multinomial é o problema de classificar instâncias em uma das três \n",
    "ou mais classes (classificar instâncias em uma das duas classes é chamado de classificação binária).\n",
    "Embora muitos algoritmos de classificação (principalmente a regressão logística multinomial) permitam naturalmente o uso de\n",
    "mais de duas classes, alguns são por natureza algoritmos binários; estes podem, no entanto, \n",
    "ser transformados em classificadores multinomiais por uma variedade de estratégias.\n",
    "A classificação de várias classes não deve ser confundida com a classificação de vários rótulos, onde vários rótulos devem \n",
    "ser previstos para cada instância.\n",
    "'''\n",
    "\n",
    "model = LogisticRegression(solver=\"liblinear\", multi_class=\"auto\")"
   ]
  },
  {
   "cell_type": "code",
   "execution_count": 21,
   "metadata": {},
   "outputs": [],
   "source": [
    "# Regressão logística sem Kfold, dividida em 80% de treino e 20% de teste\n",
    "X = iris_df[features]\n",
    "y = iris_df[\"target\"]\n",
    "X_train, X_test, y_train, y_test = train_test_split(X,y, test_size=0.2, random_state=42)"
   ]
  },
  {
   "cell_type": "code",
   "execution_count": 22,
   "metadata": {},
   "outputs": [
    {
     "data": {
      "text/html": [
       "<div>\n",
       "<style scoped>\n",
       "    .dataframe tbody tr th:only-of-type {\n",
       "        vertical-align: middle;\n",
       "    }\n",
       "\n",
       "    .dataframe tbody tr th {\n",
       "        vertical-align: top;\n",
       "    }\n",
       "\n",
       "    .dataframe thead th {\n",
       "        text-align: right;\n",
       "    }\n",
       "</style>\n",
       "<table border=\"1\" class=\"dataframe\">\n",
       "  <thead>\n",
       "    <tr style=\"text-align: right;\">\n",
       "      <th></th>\n",
       "      <th>Precisão no treino</th>\n",
       "      <th>Precisão no teste</th>\n",
       "    </tr>\n",
       "  </thead>\n",
       "  <tbody>\n",
       "    <tr>\n",
       "      <th>0</th>\n",
       "      <td>0.958333</td>\n",
       "      <td>1.0</td>\n",
       "    </tr>\n",
       "  </tbody>\n",
       "</table>\n",
       "</div>"
      ],
      "text/plain": [
       "   Precisão no treino  Precisão no teste\n",
       "0            0.958333                1.0"
      ]
     },
     "execution_count": 22,
     "metadata": {},
     "output_type": "execute_result"
    }
   ],
   "source": [
    "#treina o modelo\n",
    "model.fit(X_train, y_train) #treinando o modelo\n",
    "pd.DataFrame({\"Precisão no treino\":[accuracy_score(y_train, model.predict(X_train))],\n",
    "    \"Precisão no teste\":[accuracy_score(y_test, model.predict(X_test))]})"
   ]
  },
  {
   "cell_type": "markdown",
   "metadata": {},
   "source": [
    "### KFold\n",
    "\n",
    "O método Kfold retorna a ordem das amostras escolhidas para os conjuntos de treino e teste em cada dobra. Em um dataframe do pandas, usamos a função .iloc para obter as linhas corretas. Como não dividi os dados em X (recursos) ey (destino), também tenho que usar .loc, para escolher as colunas corretas (.loc[:,features]) ou simplesmente escolher as colunas (['target'])"
   ]
  },
  {
   "cell_type": "code",
   "execution_count": 31,
   "metadata": {},
   "outputs": [
    {
     "name": "stdout",
     "output_type": "stream",
     "text": [
      "Precisão para o fold no. 1 no conjunto de teste: 0.0\n",
      "Precisão para o fold no. 2 no conjunto de teste: 0.0\n",
      "Precisão para o fold no. 3 no conjunto de teste: 0.0\n"
     ]
    }
   ],
   "source": [
    "i = 1\n",
    "for train_index, test_index in kf3.split(iris_df):\n",
    "    X_train = iris_df.iloc[train_index].loc[:, features]\n",
    "    X_test = iris_df.iloc[test_index][features]\n",
    "    y_train = iris_df.iloc[train_index].loc[:,'target']\n",
    "    y_test = iris_df.loc[test_index]['target']\n",
    "        \n",
    "    #Treina o modelo\n",
    "    model.fit(X_train, y_train) #Treinando o modelo\n",
    "    print(f\"Precisão para o fold no. {i} no conjunto de teste: {accuracy_score(y_test, model.predict(X_test))}\")\n",
    "    i += 1"
   ]
  },
  {
   "cell_type": "markdown",
   "metadata": {},
   "source": [
    "Mas por que a precisão é cada dobra **0.0**? O motivo é a uniformidade das divisões. Como os dados são ordenados para que setosa apareça nas primeiras cinquenta linhas do conjunto de dados, seguidos por versicolor e virginica, alcançamos uma distribuição exclusiva do conjunto de treinamento, que não contém nenhum destino esperado no conjunto de teste. A maioria dos modelos de aprendizado de máquina não pode aprender a classificar-se em uma classe que nunca viu. Visível na terceira divisão"
   ]
  },
  {
   "cell_type": "code",
   "execution_count": 24,
   "metadata": {},
   "outputs": [
    {
     "data": {
      "image/png": "[encoded data removed]",
      "text/plain": [
       "<Figure size 936x216 with 3 Axes>"
      ]
     },
     "metadata": {
      "needs_background": "light"
     },
     "output_type": "display_data"
    }
   ],
   "source": [
    "target_name = iris_df[\"target\"]\n",
    "\n",
    "fig, ax = plt.subplots(1,3, figsize=(13,3), sharey=True)\n",
    "for i, (train_index, test_index) in enumerate(kf3.split(iris_df)):\n",
    "    ax[i].scatter(x=train_index,y=target_name.iloc[train_index],label =\"train\", c='b')\n",
    "    ax[i].scatter(x=test_index,y=target_name.iloc[test_index], label = \"test\", c='r')\n",
    "    ax[i].set_title(f\"Fold {i+1}\")\n",
    "\n",
    "ax[0].set_yticks([0,1,2])\n",
    "ax[0].set_yticklabels(iris[\"target_names\"])\n",
    "plt.legend(bbox_to_anchor=(1.05, 1))\n",
    "plt.show()"
   ]
  },
  {
   "cell_type": "markdown",
   "metadata": {},
   "source": [
    "## KFold Embaralhado\n",
    "Uma maneira de contornar esse problema é usar o Kfold embaralhado"
   ]
  },
  {
   "cell_type": "code",
   "execution_count": 18,
   "metadata": {},
   "outputs": [
    {
     "data": {
      "text/html": [
       "<div>\n",
       "<style scoped>\n",
       "    .dataframe tbody tr th:only-of-type {\n",
       "        vertical-align: middle;\n",
       "    }\n",
       "\n",
       "    .dataframe tbody tr th {\n",
       "        vertical-align: top;\n",
       "    }\n",
       "\n",
       "    .dataframe thead th {\n",
       "        text-align: right;\n",
       "    }\n",
       "</style>\n",
       "<table border=\"1\" class=\"dataframe\">\n",
       "  <thead>\n",
       "    <tr style=\"text-align: right;\">\n",
       "      <th></th>\n",
       "      <th>sepal length (cm)</th>\n",
       "      <th>sepal width (cm)</th>\n",
       "      <th>petal length (cm)</th>\n",
       "      <th>petal width (cm)</th>\n",
       "      <th>target</th>\n",
       "      <th>target_name</th>\n",
       "    </tr>\n",
       "  </thead>\n",
       "  <tbody>\n",
       "    <tr>\n",
       "      <th>0</th>\n",
       "      <td>5.1</td>\n",
       "      <td>3.5</td>\n",
       "      <td>1.4</td>\n",
       "      <td>0.2</td>\n",
       "      <td>0</td>\n",
       "      <td>setosa</td>\n",
       "    </tr>\n",
       "    <tr>\n",
       "      <th>1</th>\n",
       "      <td>4.9</td>\n",
       "      <td>3.0</td>\n",
       "      <td>1.4</td>\n",
       "      <td>0.2</td>\n",
       "      <td>0</td>\n",
       "      <td>setosa</td>\n",
       "    </tr>\n",
       "    <tr>\n",
       "      <th>2</th>\n",
       "      <td>4.7</td>\n",
       "      <td>3.2</td>\n",
       "      <td>1.3</td>\n",
       "      <td>0.2</td>\n",
       "      <td>0</td>\n",
       "      <td>setosa</td>\n",
       "    </tr>\n",
       "    <tr>\n",
       "      <th>3</th>\n",
       "      <td>4.6</td>\n",
       "      <td>3.1</td>\n",
       "      <td>1.5</td>\n",
       "      <td>0.2</td>\n",
       "      <td>0</td>\n",
       "      <td>setosa</td>\n",
       "    </tr>\n",
       "    <tr>\n",
       "      <th>4</th>\n",
       "      <td>5.0</td>\n",
       "      <td>3.6</td>\n",
       "      <td>1.4</td>\n",
       "      <td>0.2</td>\n",
       "      <td>0</td>\n",
       "      <td>setosa</td>\n",
       "    </tr>\n",
       "    <tr>\n",
       "      <th>...</th>\n",
       "      <td>...</td>\n",
       "      <td>...</td>\n",
       "      <td>...</td>\n",
       "      <td>...</td>\n",
       "      <td>...</td>\n",
       "      <td>...</td>\n",
       "    </tr>\n",
       "    <tr>\n",
       "      <th>145</th>\n",
       "      <td>6.7</td>\n",
       "      <td>3.0</td>\n",
       "      <td>5.2</td>\n",
       "      <td>2.3</td>\n",
       "      <td>2</td>\n",
       "      <td>virginica</td>\n",
       "    </tr>\n",
       "    <tr>\n",
       "      <th>146</th>\n",
       "      <td>6.3</td>\n",
       "      <td>2.5</td>\n",
       "      <td>5.0</td>\n",
       "      <td>1.9</td>\n",
       "      <td>2</td>\n",
       "      <td>virginica</td>\n",
       "    </tr>\n",
       "    <tr>\n",
       "      <th>147</th>\n",
       "      <td>6.5</td>\n",
       "      <td>3.0</td>\n",
       "      <td>5.2</td>\n",
       "      <td>2.0</td>\n",
       "      <td>2</td>\n",
       "      <td>virginica</td>\n",
       "    </tr>\n",
       "    <tr>\n",
       "      <th>148</th>\n",
       "      <td>6.2</td>\n",
       "      <td>3.4</td>\n",
       "      <td>5.4</td>\n",
       "      <td>2.3</td>\n",
       "      <td>2</td>\n",
       "      <td>virginica</td>\n",
       "    </tr>\n",
       "    <tr>\n",
       "      <th>149</th>\n",
       "      <td>5.9</td>\n",
       "      <td>3.0</td>\n",
       "      <td>5.1</td>\n",
       "      <td>1.8</td>\n",
       "      <td>2</td>\n",
       "      <td>virginica</td>\n",
       "    </tr>\n",
       "  </tbody>\n",
       "</table>\n",
       "<p>150 rows × 6 columns</p>\n",
       "</div>"
      ],
      "text/plain": [
       "     sepal length (cm)  sepal width (cm)  petal length (cm)  petal width (cm)  \\\n",
       "0                  5.1               3.5                1.4               0.2   \n",
       "1                  4.9               3.0                1.4               0.2   \n",
       "2                  4.7               3.2                1.3               0.2   \n",
       "3                  4.6               3.1                1.5               0.2   \n",
       "4                  5.0               3.6                1.4               0.2   \n",
       "..                 ...               ...                ...               ...   \n",
       "145                6.7               3.0                5.2               2.3   \n",
       "146                6.3               2.5                5.0               1.9   \n",
       "147                6.5               3.0                5.2               2.0   \n",
       "148                6.2               3.4                5.4               2.3   \n",
       "149                5.9               3.0                5.1               1.8   \n",
       "\n",
       "     target target_name  \n",
       "0         0      setosa  \n",
       "1         0      setosa  \n",
       "2         0      setosa  \n",
       "3         0      setosa  \n",
       "4         0      setosa  \n",
       "..      ...         ...  \n",
       "145       2   virginica  \n",
       "146       2   virginica  \n",
       "147       2   virginica  \n",
       "148       2   virginica  \n",
       "149       2   virginica  \n",
       "\n",
       "[150 rows x 6 columns]"
      ]
     },
     "execution_count": 18,
     "metadata": {},
     "output_type": "execute_result"
    }
   ],
   "source": [
    "iris_df"
   ]
  },
  {
   "cell_type": "code",
   "execution_count": 29,
   "metadata": {},
   "outputs": [
    {
     "name": "stdout",
     "output_type": "stream",
     "text": [
      "Precisão para o fold no. 1 no conjunto de teste: 0.98\n",
      "Precisão para o fold no. 2 no conjunto de teste: 0.98\n",
      "Precisão para o fold no. 3 no conjunto de teste: 0.94\n",
      "Precisão para o fold no. 4 no conjunto de teste: 0.94\n",
      "Precisão para o fold no. 5 no conjunto de teste: 0.88\n",
      "Precisão para o fold no. 6 no conjunto de teste: 0.88\n"
     ]
    }
   ],
   "source": [
    "dfs = []\n",
    "kf = KFold(n_splits=3, shuffle=True, random_state=123)\n",
    "i = 1\n",
    "\n",
    "\n",
    "for train_index, test_index in kf.split(iris_df):\n",
    "    X_train = iris_df.iloc[train_index].loc[:, features]\n",
    "    X_test = iris_df.iloc[test_index].loc[:,features]\n",
    "    y_train = iris_df.iloc[train_index].loc[:,'target']\n",
    "    y_test = iris_df.loc[test_index].loc[:,'target']\n",
    "\n",
    "    #Treina o modelo\n",
    "    model.fit(X_train, y_train) #Treinando o modelo\n",
    "    y_pred = model.predict(X_test)\n",
    "    print(f\"Precisão para o fold no. {i} no conjunto de teste: {accuracy_score(y_test, y_pred)}\")\n",
    "\n",
    "    # quantas ocorrências aparecem no conjunto de trens\n",
    "    s_train = iris_df.iloc[train_index].loc[:,'target_name'].value_counts()\n",
    "    s_train.name = f\"train {i}\"\n",
    "    s_test = iris_df.iloc[test_index].loc[:,'target_name'].value_counts()\n",
    "    s_test.name = f\"test {i}\"\n",
    "    df = pd.concat([s_train, s_test], axis=1, sort=False)\n",
    "    df[\"|\"] = \"|\"\n",
    "    dfs.append(df)\n",
    "\n",
    "    i += 1\n",
    "    X_train = iris_df.iloc[train_index].loc[:, features]\n",
    "    X_test = iris_df.iloc[test_index].loc[:,features]\n",
    "    y_train = iris_df.iloc[train_index].loc[:,'target']\n",
    "    y_test = iris_df.loc[test_index].loc[:,'target']\n",
    "\n",
    "    #Treina o modelo\n",
    "    model.fit(X_train, y_train) #Treinando o modelo\n",
    "    y_pred = model.predict(X_test)\n",
    "    print(f\"Precisão para o fold no. {i} no conjunto de teste: {accuracy_score(y_test, y_pred)}\")\n",
    "\n",
    "    # quantas ocorrências aparecem no conjunto de trens\n",
    "    s_train = iris_df.iloc[train_index].loc[:,'target_name'].value_counts()\n",
    "    s_train.name = f\"train {i}\"\n",
    "    s_test = iris_df.iloc[test_index].loc[:,'target_name'].value_counts()\n",
    "    s_test.name = f\"test {i}\"\n",
    "    df = pd.concat([s_train, s_test], axis=1, sort=False)\n",
    "    df[\"|\"] = \"|\"\n",
    "    dfs.append(df)\n",
    "\n",
    "    i += 1"
   ]
  },
  {
   "cell_type": "code",
   "execution_count": 30,
   "metadata": {},
   "outputs": [
    {
     "data": {
      "image/png": "[encoded data removed]",
      "text/plain": [
       "<Figure size 432x288 with 1 Axes>"
      ]
     },
     "metadata": {
      "needs_background": "light"
     },
     "output_type": "display_data"
    }
   ],
   "source": [
    "plt.scatter(x=y_train.index,y=iris_df.iloc[train_index].loc[:,'target_name'],label =\"treino\")\n",
    "plt.scatter(x=y_test.index,y=iris_df.iloc[test_index].loc[:,'target_name'], label = \"teste\")\n",
    "plt.legend()\n",
    "plt.show()"
   ]
  },
  {
   "cell_type": "markdown",
   "metadata": {},
   "source": [
    "Você pode ver que agora escolhemos amostras dos três tipos de íris, no entanto, algumas são escolhidas com mais frequência do que outras."
   ]
  },
  {
   "cell_type": "code",
   "execution_count": 32,
   "metadata": {},
   "outputs": [
    {
     "data": {
      "text/html": [
       "<div>\n",
       "<style scoped>\n",
       "    .dataframe tbody tr th:only-of-type {\n",
       "        vertical-align: middle;\n",
       "    }\n",
       "\n",
       "    .dataframe tbody tr th {\n",
       "        vertical-align: top;\n",
       "    }\n",
       "\n",
       "    .dataframe thead th {\n",
       "        text-align: right;\n",
       "    }\n",
       "</style>\n",
       "<table border=\"1\" class=\"dataframe\">\n",
       "  <thead>\n",
       "    <tr style=\"text-align: right;\">\n",
       "      <th></th>\n",
       "      <th>train 1</th>\n",
       "      <th>test 1</th>\n",
       "      <th>|</th>\n",
       "      <th>train 2</th>\n",
       "      <th>test 2</th>\n",
       "      <th>|</th>\n",
       "      <th>train 3</th>\n",
       "      <th>test 3</th>\n",
       "      <th>|</th>\n",
       "      <th>train 4</th>\n",
       "      <th>test 4</th>\n",
       "      <th>|</th>\n",
       "      <th>train 5</th>\n",
       "      <th>test 5</th>\n",
       "      <th>|</th>\n",
       "      <th>train 6</th>\n",
       "      <th>test 6</th>\n",
       "      <th>|</th>\n",
       "    </tr>\n",
       "  </thead>\n",
       "  <tbody>\n",
       "    <tr>\n",
       "      <th>versicolor</th>\n",
       "      <td>39</td>\n",
       "      <td>11</td>\n",
       "      <td>|</td>\n",
       "      <td>39</td>\n",
       "      <td>11</td>\n",
       "      <td>|</td>\n",
       "      <td>33</td>\n",
       "      <td>17</td>\n",
       "      <td>|</td>\n",
       "      <td>33</td>\n",
       "      <td>17</td>\n",
       "      <td>|</td>\n",
       "      <td>28</td>\n",
       "      <td>22</td>\n",
       "      <td>|</td>\n",
       "      <td>28</td>\n",
       "      <td>22</td>\n",
       "      <td>|</td>\n",
       "    </tr>\n",
       "    <tr>\n",
       "      <th>virginica</th>\n",
       "      <td>31</td>\n",
       "      <td>19</td>\n",
       "      <td>|</td>\n",
       "      <td>31</td>\n",
       "      <td>19</td>\n",
       "      <td>|</td>\n",
       "      <td>35</td>\n",
       "      <td>15</td>\n",
       "      <td>|</td>\n",
       "      <td>35</td>\n",
       "      <td>15</td>\n",
       "      <td>|</td>\n",
       "      <td>34</td>\n",
       "      <td>16</td>\n",
       "      <td>|</td>\n",
       "      <td>34</td>\n",
       "      <td>16</td>\n",
       "      <td>|</td>\n",
       "    </tr>\n",
       "    <tr>\n",
       "      <th>setosa</th>\n",
       "      <td>30</td>\n",
       "      <td>20</td>\n",
       "      <td>|</td>\n",
       "      <td>30</td>\n",
       "      <td>20</td>\n",
       "      <td>|</td>\n",
       "      <td>32</td>\n",
       "      <td>18</td>\n",
       "      <td>|</td>\n",
       "      <td>32</td>\n",
       "      <td>18</td>\n",
       "      <td>|</td>\n",
       "      <td>38</td>\n",
       "      <td>12</td>\n",
       "      <td>|</td>\n",
       "      <td>38</td>\n",
       "      <td>12</td>\n",
       "      <td>|</td>\n",
       "    </tr>\n",
       "  </tbody>\n",
       "</table>\n",
       "</div>"
      ],
      "text/plain": [
       "            train 1  test 1  |  train 2  test 2  |  train 3  test 3  |  \\\n",
       "versicolor       39      11  |       39      11  |       33      17  |   \n",
       "virginica        31      19  |       31      19  |       35      15  |   \n",
       "setosa           30      20  |       30      20  |       32      18  |   \n",
       "\n",
       "            train 4  test 4  |  train 5  test 5  |  train 6  test 6  |  \n",
       "versicolor       33      17  |       28      22  |       28      22  |  \n",
       "virginica        35      15  |       34      16  |       34      16  |  \n",
       "setosa           32      18  |       38      12  |       38      12  |  "
      ]
     },
     "execution_count": 32,
     "metadata": {},
     "output_type": "execute_result"
    }
   ],
   "source": [
    "pd.concat(dfs,axis=1, sort=False)"
   ]
  },
  {
   "cell_type": "markdown",
   "metadata": {},
   "source": [
    "## Stratified KFold"
   ]
  },
  {
   "cell_type": "markdown",
   "metadata": {},
   "source": [
    "Em vez de usar Kfold aleatório, podemos usar StratifiedKFold que precisa do parâmetro extra `y`. Como `y`, você usa a variável de destino para que o Kfold e escolha uma distribuição equilibrada dos destinos em cada folds."
   ]
  },
  {
   "cell_type": "code",
   "execution_count": 33,
   "metadata": {},
   "outputs": [
    {
     "name": "stdout",
     "output_type": "stream",
     "text": [
      "Accuracy for the fold no. 1 on the test set: 0.94, doublecheck: 0.94\n",
      "Accuracy for the fold no. 2 on the test set: 0.98, doublecheck: 0.98\n",
      "Accuracy for the fold no. 3 on the test set: 0.92, doublecheck: 0.92\n"
     ]
    }
   ],
   "source": [
    "dfs = []\n",
    "kf = StratifiedKFold(n_splits=3, shuffle=True, random_state=123)\n",
    "i = 1\n",
    "for train_index, test_index in kf.split(iris_df, iris_df[\"target\"]):\n",
    "    X_train = iris_df.iloc[train_index].loc[:, features]\n",
    "    X_test = iris_df.iloc[test_index].loc[:,features]\n",
    "    y_train = iris_df.iloc[train_index].loc[:,'target']\n",
    "    y_test = iris_df.loc[test_index].loc[:,'target']\n",
    "\n",
    "    #Train the model\n",
    "    model.fit(X_train, y_train) #Training the model\n",
    "    print(f\"Accuracy for the fold no. {i} on the test set: {accuracy_score(y_test, model.predict(X_test))}, doublecheck: {model.score(X_test,y_test)}\")\n",
    "    \n",
    "    # how many occurances appear in the train set\n",
    "    s_train = iris_df.iloc[train_index].loc[:,'target_name'].value_counts()\n",
    "    s_train.name = f\"train {i}\"\n",
    "    s_test = iris_df.iloc[test_index].loc[:,'target_name'].value_counts()\n",
    "    s_test.name = f\"test {i}\"\n",
    "    df = pd.concat([s_train, s_test], axis=1, sort=False)\n",
    "    df[\"|\"] = \"|\"\n",
    "    dfs.append(df)\n",
    "    \n",
    "    i += 1"
   ]
  },
  {
   "cell_type": "code",
   "execution_count": 34,
   "metadata": {},
   "outputs": [
    {
     "data": {
      "image/png": "[encoded data removed]",
      "text/plain": [
       "<Figure size 432x288 with 1 Axes>"
      ]
     },
     "metadata": {
      "needs_background": "light"
     },
     "output_type": "display_data"
    }
   ],
   "source": [
    "plt.scatter(x=y_train.index,y=iris_df.iloc[train_index].loc[:,'target_name'],label =\"train\")\n",
    "plt.scatter(x=y_test.index,y=iris_df.iloc[test_index].loc[:,'target_name'], label = \"test\")\n",
    "plt.legend()\n",
    "plt.title(\"Shuffled stratified StratifiedKFold - 3rd Fold\")\n",
    "plt.show()"
   ]
  },
  {
   "cell_type": "code",
   "execution_count": 35,
   "metadata": {},
   "outputs": [
    {
     "data": {
      "text/html": [
       "<div>\n",
       "<style scoped>\n",
       "    .dataframe tbody tr th:only-of-type {\n",
       "        vertical-align: middle;\n",
       "    }\n",
       "\n",
       "    .dataframe tbody tr th {\n",
       "        vertical-align: top;\n",
       "    }\n",
       "\n",
       "    .dataframe thead th {\n",
       "        text-align: right;\n",
       "    }\n",
       "</style>\n",
       "<table border=\"1\" class=\"dataframe\">\n",
       "  <thead>\n",
       "    <tr style=\"text-align: right;\">\n",
       "      <th></th>\n",
       "      <th>train 1</th>\n",
       "      <th>test 1</th>\n",
       "      <th>|</th>\n",
       "      <th>train 2</th>\n",
       "      <th>test 2</th>\n",
       "      <th>|</th>\n",
       "      <th>train 3</th>\n",
       "      <th>test 3</th>\n",
       "      <th>|</th>\n",
       "    </tr>\n",
       "  </thead>\n",
       "  <tbody>\n",
       "    <tr>\n",
       "      <th>virginica</th>\n",
       "      <td>34</td>\n",
       "      <td>16</td>\n",
       "      <td>|</td>\n",
       "      <td>33</td>\n",
       "      <td>17</td>\n",
       "      <td>|</td>\n",
       "      <td>33</td>\n",
       "      <td>17</td>\n",
       "      <td>|</td>\n",
       "    </tr>\n",
       "    <tr>\n",
       "      <th>setosa</th>\n",
       "      <td>33</td>\n",
       "      <td>17</td>\n",
       "      <td>|</td>\n",
       "      <td>33</td>\n",
       "      <td>17</td>\n",
       "      <td>|</td>\n",
       "      <td>34</td>\n",
       "      <td>16</td>\n",
       "      <td>|</td>\n",
       "    </tr>\n",
       "    <tr>\n",
       "      <th>versicolor</th>\n",
       "      <td>33</td>\n",
       "      <td>17</td>\n",
       "      <td>|</td>\n",
       "      <td>34</td>\n",
       "      <td>16</td>\n",
       "      <td>|</td>\n",
       "      <td>33</td>\n",
       "      <td>17</td>\n",
       "      <td>|</td>\n",
       "    </tr>\n",
       "  </tbody>\n",
       "</table>\n",
       "</div>"
      ],
      "text/plain": [
       "            train 1  test 1  |  train 2  test 2  |  train 3  test 3  |\n",
       "virginica        34      16  |       33      17  |       33      17  |\n",
       "setosa           33      17  |       33      17  |       34      16  |\n",
       "versicolor       33      17  |       34      16  |       33      17  |"
      ]
     },
     "execution_count": 35,
     "metadata": {},
     "output_type": "execute_result"
    }
   ],
   "source": [
    "pd.concat(dfs,axis=1, sort=False)"
   ]
  },
  {
   "cell_type": "markdown",
   "metadata": {},
   "source": [
    "## Cross Validation sem KFold\n",
    "Se você não quiser jogar com os dados divididos, não precisará fazer o KFolds, cross_validate ou cross_val_score treinará usando seus dados e o número preferido de divisões e fornecerá a pontuação no conjunto de testes."
   ]
  },
  {
   "cell_type": "code",
   "execution_count": 25,
   "metadata": {},
   "outputs": [
    {
     "name": "stdout",
     "output_type": "stream",
     "text": [
      "Precisão para o fold no. 0 no conjunto de teste: 0.96\n",
      "Precisão para o fold no. 1 no conjunto de teste: 0.96\n",
      "Precisão para o fold no. 2 no conjunto de teste: 0.94\n"
     ]
    }
   ],
   "source": [
    "# cross_validate permite especificar métricas que você deseja ver\n",
    "for i, score in enumerate(cross_validate(model, X,y, cv=3)[\"test_score\"]):\n",
    "    print(f\"Precisão para o fold no. {i} no conjunto de teste: {score}\")"
   ]
  },
  {
   "cell_type": "code",
   "execution_count": null,
   "metadata": {},
   "outputs": [],
   "source": [
    "for i, score in enumerate(cross_val_score(model, X,y, cv=3)):\n",
    "    print(f\"Precisão para o fold no. {i} no conjunto de teste: {score}\")"
   ]
  },
  {
   "cell_type": "markdown",
   "metadata": {},
   "source": [
    "# Conclusão\n",
    "\n",
    "Analisamos como os métodos Sklearn `Kfold` funcionam. Vemos que ele divide os dados no número n de conjuntos. Cada um dos recursos aparecerá uma vez no conjunto de testes e `n-1` vezes no conjunto de treinamento. \n",
    "\n",
    "No KFold regular, cada fold conterá valores `1/n` no conjunto de treinamento e valores `n-1/n` no conjunto de testes. Portanto, para `n=2` 50% estará no conjunto de testes,` n=3` 33%, `n=4` 25% etc.\n",
    "\n",
    "Podemos dividir os dados na ordem em que eles aparecerem usando `shuffle=False` ou aleatoriamente com `shuffle=True` e opcionalmente declarando um `random_state`. Ter o mesmo estado aleatório sempre resultará na mesma divisão dos dados de teste e treino.\n",
    "\n",
    "Você não precisa dividir seus dados manualmente e  pode aplicar `cross-validate`. Os dados serão divididos em segundo plano e você receberá a pontuação final."
   ]
  }
 ],
 "metadata": {
  "kernelspec": {
   "display_name": "Python 3 (ipykernel)",
   "language": "python",
   "name": "python3"
  },
  "language_info": {
   "codemirror_mode": {
    "name": "ipython",
    "version": 3
   },
   "file_extension": ".py",
   "mimetype": "text/x-python",
   "name": "python",
   "nbconvert_exporter": "python",
   "pygments_lexer": "ipython3",
   "version": "3.9.7"
  }
 },
 "nbformat": 4,
 "nbformat_minor": 2
}
